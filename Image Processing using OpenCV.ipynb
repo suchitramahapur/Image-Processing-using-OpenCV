{
 "cells": [
  {
   "cell_type": "code",
   "execution_count": 1,
   "id": "1e5d9d4a-bdd4-4c87-b9b0-481cdf5a80e2",
   "metadata": {},
   "outputs": [],
   "source": [
    "import cv2 as cv\n",
    "import numpy as np"
   ]
  },
  {
   "cell_type": "code",
   "execution_count": 2,
   "id": "f2ee4661-853f-4873-8d0a-8e3d5263b5a1",
   "metadata": {},
   "outputs": [
    {
     "data": {
      "text/plain": [
       "13"
      ]
     },
     "execution_count": 2,
     "metadata": {},
     "output_type": "execute_result"
    }
   ],
   "source": [
    "img = cv.imread(\"image.jpg\")\n",
    "cv.imshow(\"Original Image\", img)\n",
    "cv.waitKey(0)"
   ]
  },
  {
   "cell_type": "code",
   "execution_count": 3,
   "id": "68f0ee53-665d-4ecb-a5d5-f39040e850e4",
   "metadata": {},
   "outputs": [
    {
     "data": {
      "text/plain": [
       "(680, 1024, 3)"
      ]
     },
     "execution_count": 3,
     "metadata": {},
     "output_type": "execute_result"
    }
   ],
   "source": [
    "img.shape"
   ]
  },
  {
   "cell_type": "code",
   "execution_count": 4,
   "id": "46f50fdc-dd01-4d28-a617-9160691c7f7d",
   "metadata": {},
   "outputs": [],
   "source": [
    "blue_image = img.copy()"
   ]
  },
  {
   "cell_type": "code",
   "execution_count": 5,
   "id": "25c96a47-7df4-47ba-8688-f5ece24e158e",
   "metadata": {},
   "outputs": [],
   "source": [
    "blue_image[:,:,1]=0   # Green will be 0\n",
    "blue_image[:,:,2]=0   # Red will be 0"
   ]
  },
  {
   "cell_type": "code",
   "execution_count": 6,
   "id": "6fd561c6-eee7-498b-b0bb-ea886a613a19",
   "metadata": {},
   "outputs": [
    {
     "data": {
      "text/plain": [
       "13"
      ]
     },
     "execution_count": 6,
     "metadata": {},
     "output_type": "execute_result"
    }
   ],
   "source": [
    "cv.imshow(\"Blue Image\", blue_image)\n",
    "cv.imwrite(\"Blue Image.jpg\", blue_image)\n",
    "cv.waitKey(0)"
   ]
  },
  {
   "cell_type": "code",
   "execution_count": 7,
   "id": "101b0486-460f-4e79-ba09-1450ace03eee",
   "metadata": {},
   "outputs": [],
   "source": [
    "green_image = img.copy()"
   ]
  },
  {
   "cell_type": "code",
   "execution_count": 8,
   "id": "9f05752a-fd6e-4f33-bfda-d574fbe97e79",
   "metadata": {},
   "outputs": [],
   "source": [
    "green_image[:,:,0]=0   # Blue will be zero\n",
    "green_image[:,:,2]=0   # Red will be zero"
   ]
  },
  {
   "cell_type": "code",
   "execution_count": 9,
   "id": "f4528b90-bfe0-4da0-bc69-216c3aa392d3",
   "metadata": {},
   "outputs": [
    {
     "data": {
      "text/plain": [
       "13"
      ]
     },
     "execution_count": 9,
     "metadata": {},
     "output_type": "execute_result"
    }
   ],
   "source": [
    "cv.imshow(\"Green Image\", green_image)\n",
    "cv.imwrite(\"Green Image.jpg\", green_image)\n",
    "cv.waitKey(0)"
   ]
  },
  {
   "cell_type": "code",
   "execution_count": 10,
   "id": "9bd46513-ddfb-4657-b39c-26e4f89816e1",
   "metadata": {},
   "outputs": [],
   "source": [
    "red_image = img.copy()"
   ]
  },
  {
   "cell_type": "code",
   "execution_count": 11,
   "id": "dafaeb95-c552-44b1-a677-69eed8bd4046",
   "metadata": {},
   "outputs": [],
   "source": [
    "red_image[:,:,0]=0   # Blue will be zero\n",
    "red_image[:,:,1]=0   # Red will be zero"
   ]
  },
  {
   "cell_type": "code",
   "execution_count": 12,
   "id": "2586695c-9081-44b4-aa9a-7278029f16d6",
   "metadata": {},
   "outputs": [
    {
     "data": {
      "text/plain": [
       "13"
      ]
     },
     "execution_count": 12,
     "metadata": {},
     "output_type": "execute_result"
    }
   ],
   "source": [
    "cv.imshow(\"Red Image\", red_image)\n",
    "cv.waitKey(0)"
   ]
  },
  {
   "cell_type": "code",
   "execution_count": 13,
   "id": "2403d71d-bf0f-4d76-bee8-d18e5bfd5deb",
   "metadata": {},
   "outputs": [
    {
     "data": {
      "text/plain": [
       "13"
      ]
     },
     "execution_count": 13,
     "metadata": {},
     "output_type": "execute_result"
    }
   ],
   "source": [
    "resized_img = cv.resize(img, (500, 500))\n",
    "cv.imshow(\"Resized Image\", resized_img)\n",
    "cv.waitKey(0)"
   ]
  },
  {
   "cell_type": "code",
   "execution_count": 14,
   "id": "470fae93-0273-4bf8-a3b8-48f9b7e9b110",
   "metadata": {},
   "outputs": [
    {
     "data": {
      "text/plain": [
       "13"
      ]
     },
     "execution_count": 14,
     "metadata": {},
     "output_type": "execute_result"
    }
   ],
   "source": [
    "rescaled_img = cv.resize(img, None, fx=0.5, fy=0.5)\n",
    "cv.imshow(\"Rescaled Image\", rescaled_img)\n",
    "cv.imshow(\"Original Image\", img)\n",
    "cv.waitKey(0)"
   ]
  },
  {
   "cell_type": "code",
   "execution_count": 15,
   "id": "b256c5d0-3f19-4caa-a351-1f1e6cab7c98",
   "metadata": {},
   "outputs": [],
   "source": [
    "col, row = img.shape[:2]\n",
    "rotation_matrix = cv.getRotationMatrix2D((col/2, row/2), 60, 1)\n",
    "rotated_img = cv.warpAffine(img, rotation_matrix, (col, row))"
   ]
  },
  {
   "cell_type": "code",
   "execution_count": 16,
   "id": "f531d86f-c81a-4745-9807-143fd18f316a",
   "metadata": {},
   "outputs": [
    {
     "data": {
      "text/plain": [
       "13"
      ]
     },
     "execution_count": 16,
     "metadata": {},
     "output_type": "execute_result"
    }
   ],
   "source": [
    "cv.imshow(\"Rotation Image\", rotated_img)\n",
    "cv.waitKey(0)"
   ]
  },
  {
   "cell_type": "code",
   "execution_count": 17,
   "id": "16fd32fa-0e02-4027-90d4-adcab1921f3e",
   "metadata": {},
   "outputs": [],
   "source": [
    "blurred_img = cv.GaussianBlur(img, (7,7), 3)"
   ]
  },
  {
   "cell_type": "code",
   "execution_count": 18,
   "id": "dd9df14d-d489-4399-bee6-54b5e8e6980f",
   "metadata": {},
   "outputs": [
    {
     "data": {
      "text/plain": [
       "13"
      ]
     },
     "execution_count": 18,
     "metadata": {},
     "output_type": "execute_result"
    }
   ],
   "source": [
    "cv.imshow(\"Blurred Image\", blurred_img)\n",
    "cv.waitKey(0)"
   ]
  },
  {
   "cell_type": "code",
   "execution_count": 19,
   "id": "55779f52-d65b-40ad-88e4-6e01b0fabbf3",
   "metadata": {},
   "outputs": [],
   "source": [
    "sheared_matrix = np.float32([[1, 0.25, 0], [0, 1, 0]])\n",
    "sheared_img = cv.warpAffine(img, sheared_matrix, (col, row))"
   ]
  },
  {
   "cell_type": "code",
   "execution_count": 20,
   "id": "7e6548db-7a15-4725-b440-3c6dd0b5c866",
   "metadata": {},
   "outputs": [
    {
     "data": {
      "text/plain": [
       "13"
      ]
     },
     "execution_count": 20,
     "metadata": {},
     "output_type": "execute_result"
    }
   ],
   "source": [
    "cv.imshow(\"Sheared Image\", sheared_img)\n",
    "cv.waitKey(0)"
   ]
  },
  {
   "cell_type": "code",
   "execution_count": 21,
   "id": "82c97928-9bbe-444f-af6b-022fefc3993c",
   "metadata": {},
   "outputs": [],
   "source": [
    "hsv_img = cv.cvtColor(img, cv.COLOR_BGR2HSV)"
   ]
  },
  {
   "cell_type": "code",
   "execution_count": 22,
   "id": "66d912d6-192e-4efe-8913-a582f35535c1",
   "metadata": {},
   "outputs": [],
   "source": [
    "hsv_img[:,:,0]+=20\n",
    "hsv_img[:,:,1]*=2"
   ]
  },
  {
   "cell_type": "code",
   "execution_count": 23,
   "id": "90b08fcc-f5d7-489b-960c-59bb28d4b840",
   "metadata": {},
   "outputs": [
    {
     "data": {
      "text/plain": [
       "13"
      ]
     },
     "execution_count": 23,
     "metadata": {},
     "output_type": "execute_result"
    }
   ],
   "source": [
    "cv.imshow(\"HSV Image\", hsv_img)\n",
    "cv.waitKey(0)"
   ]
  },
  {
   "cell_type": "code",
   "execution_count": null,
   "id": "3ed98990-ed3c-444d-8cce-4260d3fd2ae2",
   "metadata": {},
   "outputs": [],
   "source": []
  },
  {
   "cell_type": "code",
   "execution_count": null,
   "id": "8de00321-87ac-41b9-a656-ddbb98734829",
   "metadata": {},
   "outputs": [],
   "source": []
  }
 ],
 "metadata": {
  "kernelspec": {
   "display_name": "Python 3 (ipykernel)",
   "language": "python",
   "name": "python3"
  },
  "language_info": {
   "codemirror_mode": {
    "name": "ipython",
    "version": 3
   },
   "file_extension": ".py",
   "mimetype": "text/x-python",
   "name": "python",
   "nbconvert_exporter": "python",
   "pygments_lexer": "ipython3",
   "version": "3.11.0"
  },
  "widgets": {
   "application/vnd.jupyter.widget-state+json": {
    "state": {},
    "version_major": 2,
    "version_minor": 0
   }
  }
 },
 "nbformat": 4,
 "nbformat_minor": 5
}
